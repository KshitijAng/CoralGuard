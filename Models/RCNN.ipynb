{
 "cells": [
  {
   "cell_type": "markdown",
   "id": "2eefe625-c4f2-4d4e-8dc1-ded127faaa5c",
   "metadata": {},
   "source": [
    "# Importing Libraries"
   ]
  },
  {
   "cell_type": "code",
   "execution_count": 3,
   "id": "d801edb6-38ea-4b8d-870a-0801ef093ff3",
   "metadata": {},
   "outputs": [
    {
     "name": "stdout",
     "output_type": "stream",
     "text": [
      "Requirement already satisfied: opencv-python in c:\\users\\lenovo\\appdata\\local\\programs\\python\\python312\\lib\\site-packages (4.10.0.84)\n",
      "Requirement already satisfied: numpy>=1.21.2 in c:\\users\\lenovo\\appdata\\local\\programs\\python\\python312\\lib\\site-packages (from opencv-python) (1.26.3)\n"
     ]
    }
   ],
   "source": [
    "!pip install --upgrade tensorflow --quiet\n",
    "!pip install matplotlib --quiet\n",
    "!pip install opencv-python "
   ]
  },
  {
   "cell_type": "code",
   "execution_count": 4,
   "id": "bdd9b0f0-743f-4257-b398-167eeb72f0b7",
   "metadata": {},
   "outputs": [],
   "source": [
    "import tensorflow as tf\n",
    "import matplotlib.pyplot as plt\n",
    "import numpy as np\n",
    "import os\n",
    "import cv2\n",
    "from tensorflow.keras.preprocessing.image import ImageDataGenerator"
   ]
  },
  {
   "cell_type": "markdown",
   "id": "e81cac0d-6f62-4d6e-92c3-c28d64242e52",
   "metadata": {},
   "source": [
    "# Loading Images"
   ]
  },
  {
   "cell_type": "code",
   "execution_count": 5,
   "id": "c4d29dfb-e43e-442f-9bb3-8db8ba1e0a06",
   "metadata": {},
   "outputs": [
    {
     "name": "stdout",
     "output_type": "stream",
     "text": [
      "Found 8976 images belonging to 2 classes.\n",
      "Found 2243 images belonging to 2 classes.\n"
     ]
    }
   ],
   "source": [
    "# Set up paths\n",
    "data_dir = 'Corals' \n",
    "img_height, img_width = 256, 256  \n",
    "batch_size = 32  \n",
    "\n",
    "# Create an ImageDataGenerator for training data\n",
    "train_datagen = ImageDataGenerator(\n",
    "    rescale=1./255,  \n",
    "    validation_split=0.2  # Use 20% of data for validation\n",
    ")\n",
    "\n",
    "# Load training data\n",
    "train_generator = train_datagen.flow_from_directory(\n",
    "    data_dir,\n",
    "    target_size=(img_height, img_width),\n",
    "    batch_size=batch_size,\n",
    "    class_mode='binary', \n",
    "    subset='training'  # Set as training data\n",
    ")\n",
    "\n",
    "# Load validation data\n",
    "validation_generator = train_datagen.flow_from_directory(\n",
    "    data_dir,\n",
    "    target_size=(img_height, img_width),\n",
    "    batch_size=batch_size,\n",
    "    class_mode='binary',  \n",
    "    subset='validation'  # Set as validation data\n",
    ")"
   ]
  },
  {
   "cell_type": "markdown",
   "id": "cc81afe4-0638-49b1-b091-70e3d162e56f",
   "metadata": {},
   "source": [
    "# Define the Model"
   ]
  },
  {
   "cell_type": "code",
   "execution_count": null,
   "id": "461a8965-a07f-41c3-a4f9-c6eb7c0d84d0",
   "metadata": {},
   "outputs": [],
   "source": [
    "def generate_fixed_proposals(image, num_proposals=5, window_size=(256, 256), step_size=50):\n",
    "    proposals = []\n",
    "    for y in range(0, image.shape[0] - window_size[1] + 1, step_size):\n",
    "        for x in range(0, image.shape[1] - window_size[0] + 1, step_size):\n",
    "            window = image[y:y + window_size[1], x:x + window_size[0], :]\n",
    "            if window.shape == (256, 256, 3):\n",
    "                proposals.append(window)\n",
    "            if len(proposals) == num_proposals:\n",
    "                break\n",
    "        if len(proposals) == num_proposals:\n",
    "            break\n",
    "            \n",
    "    # If not enough proposals, pad with zeros\n",
    "    while len(proposals) < num_proposals:\n",
    "        proposals.append(np.zeros(window_size + (3,)))\n",
    "        \n",
    "    return np.array(proposals)"
   ]
  },
  {
   "cell_type": "markdown",
   "id": "551bedee-7dcc-49a1-a623-88b4b32856f1",
   "metadata": {},
   "source": [
    "# Evaluate the model"
   ]
  },
  {
   "cell_type": "code",
   "execution_count": null,
   "id": "4c67b656-55d9-4fcf-9520-1c4cd536e1b4",
   "metadata": {},
   "outputs": [],
   "source": [
    "import numpy as np\n",
    "import tensorflow as tf\n",
    "from tensorflow.keras.applications import VGG16\n",
    "from tensorflow.keras.layers import Dense, Flatten, Dropout\n",
    "from tensorflow.keras.models import Model\n",
    "from tensorflow.keras.utils import to_categorical\n",
    "\n",
    "# Define the input shape\n",
    "input_shape = (256, 256, 3)\n",
    "\n",
    "# Load VGG16 as the backbone for feature extraction\n",
    "base_model = VGG16(weights='imagenet', include_top=False, input_shape=input_shape)\n",
    "\n",
    "# Freeze the base model layers\n",
    "for layer in base_model.layers:\n",
    "    layer.trainable = False\n",
    "\n",
    "# Define additional layers on top of the base model for RCNN\n",
    "x = base_model.output\n",
    "x = Flatten()(x)\n",
    "x = Dense(256, activation='relu')(x)\n",
    "x = Dropout(0.5)(x)\n",
    "x = Dense(128, activation='relu')(x)\n",
    "x = Dropout(0.5)(x)\n",
    "x = Dense(64, activation='relu')(x)\n",
    "x = Dropout(0.5)(x)\n",
    "x = Dense(32, activation='relu')(x)\n",
    "output = Dense(2, activation='softmax')(x)  \n",
    "# Create the final RCNN model using VGG16 as the backbone\n",
    "rcnn_model = Model(inputs=base_model.input, outputs=output)\n",
    "\n",
    "rcnn_model.compile(optimizer='adam', loss='categorical_crossentropy', metrics=['accuracy'])\n",
    "\n",
    "# Custom Data Generator\n",
    "class ProposalDataGenerator(tf.keras.utils.Sequence):\n",
    "    def __init__(self, generator, num_proposals=5):\n",
    "        self.generator = generator\n",
    "        self.num_proposals = num_proposals\n",
    "\n",
    "    def __len__(self):\n",
    "        return len(self.generator)\n",
    "\n",
    "    def __getitem__(self, index):\n",
    "        batch_data, batch_labels = self.generator[index]\n",
    "        proposals = []\n",
    "        for img in batch_data:\n",
    "            props = generate_fixed_proposals(img, self.num_proposals)\n",
    "            proposals.append(props)\n",
    "\n",
    "        proposals = np.array(proposals)  # Shape: (batch_size, num_proposals, height, width, channels)\n",
    "        proposals = proposals.reshape(-1, 256, 256, 3)  # Shape: (batch_size * num_proposals, 256, 256, 3)\n",
    "\n",
    "        # Repeat labels for each proposal\n",
    "        batch_labels = np.repeat(batch_labels, self.num_proposals, axis=0)  # Shape: (batch_size * num_proposals, 1)\n",
    "        batch_labels = to_categorical(batch_labels, num_classes=2)  # Convert to one-hot encoding\n",
    "\n",
    "        return proposals, batch_labels\n",
    "\n",
    "# Assuming `train_generator` is already defined\n",
    "# Create custom data generator\n",
    "custom_generator = ProposalDataGenerator(train_generator, num_proposals=5)\n",
    "\n",
    "# Train the RCNN model\n",
    "rcnn_model.fit(custom_generator, epochs=20, verbose=1)"
   ]
  },
  {
   "cell_type": "code",
   "execution_count": null,
   "id": "91d0641e-000f-4e13-8a4e-c8932d3dd952",
   "metadata": {},
   "outputs": [],
   "source": [
    "loss, accuracy = rcnn_model.evaluate(test_generator)\n",
    "\n",
    "print(f'Test Loss: {loss:.4f}')\n",
    "print(f'Test Accuracy: {accuracy:.4f}')\n"
   ]
  },
  {
   "cell_type": "markdown",
   "id": "00532949-bd0f-4d21-b904-2b7105504c1e",
   "metadata": {},
   "source": [
    "# Saving the model Images"
   ]
  },
  {
   "cell_type": "code",
   "execution_count": 2,
   "id": "3dc48dfc-5547-470b-af6a-a0f8f177e436",
   "metadata": {},
   "outputs": [],
   "source": [
    "rcnn_model.save('complex_rcnn_model.h5')"
   ]
  },
  {
   "cell_type": "code",
   "execution_count": null,
   "id": "9c634ff8-33a0-455b-86a7-f69424e7acc5",
   "metadata": {},
   "outputs": [],
   "source": []
  }
 ],
 "metadata": {
  "kernelspec": {
   "display_name": "Python 3 (ipykernel)",
   "language": "python",
   "name": "python3"
  },
  "language_info": {
   "codemirror_mode": {
    "name": "ipython",
    "version": 3
   },
   "file_extension": ".py",
   "mimetype": "text/x-python",
   "name": "python",
   "nbconvert_exporter": "python",
   "pygments_lexer": "ipython3",
   "version": "3.12.4"
  }
 },
 "nbformat": 4,
 "nbformat_minor": 5
}
